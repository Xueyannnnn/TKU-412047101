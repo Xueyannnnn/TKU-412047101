{
 "cells": [
  {
   "cell_type": "markdown",
   "id": "23d6839a",
   "metadata": {},
   "source": [
    "## <font color=\"Red\"> 3.1. 請寫一段程式碼，進行下列資訊判斷：\n",
    "<font color=\"Red\">\n",
    "你住在淡水嗎？(Yes/No)Yes 請輸入你的年級數字：4\n",
    "\n",
    "住在淡水，4年級或以上，早上可能沒課！\n",
    "住在淡水，4年級以下，早上可能有課，但是不用早起！\n",
    "不住在淡水，4年級或以上，早上可能沒課，但是不用早起！\n",
    "不住在淡水，4年級以下，早上可能有課，需要早起！\n",
    "Examples:\n",
    "你住在淡水嗎？(Yes/No)Yes\n",
    "請輸入你的年級數字：4\n",
    "你住在淡水，你是4年級，早上的課不需要早起！\n",
    "\n",
    "你住在淡水嗎？(Yes/No)Yes\n",
    "請輸入你的年級數字：3\n",
    "你住在淡水，你是3年級，早上可能有課，但是不用早起！\n",
    "\n",
    "你住在淡水嗎？(Yes/No)No\n",
    "請輸入你的年級數字：4\n",
    "你不住在淡水，你是4年級，早上可能沒課，但是不用早起\n",
    "\n",
    "你住在淡水嗎？(Yes/No)No\n",
    "請輸入你的年級數字：3\n",
    "你不住在淡水，你是3年級，早上可能有課，需要早起！"
   ]
  },
  {
   "cell_type": "code",
   "execution_count": null,
   "id": "54e92679",
   "metadata": {},
   "outputs": [],
   "source": [
    "if input(\"你住在淡水嗎？(Yes/No)\") == \"Yes\":\n",
    "   \n",
    "    grade = int(input(\"請輸入你的年級數字：\"))\n",
    "    \n",
    "    if grade >= 4: \n",
    "        print(\"你住在淡水，你是{}年級，早上的課不需要早起！\".format(grade))\n",
    "    else:\n",
    "        print(\"你住在淡水，你是{}年級，早上可能有課，但是不用早起！\".format(grade))\n",
    "else:\n",
    "    grade = int(input(\"請輸入你的年級數字：\"))\n",
    "    \n",
    "    if grade >= 4:\n",
    "        print(\"你不住在淡水，你是{}年級，早上可能沒課，但是不用早起！\".format(grade))\n",
    "    else:\n",
    "        print(\"你不住在淡水，你是{}年級，早上可能有課，需要早起！\".format(grade))"
   ]
  },
  {
   "cell_type": "markdown",
   "id": "6021071e",
   "metadata": {},
   "source": [
    "## <font color=\"Red\"> 3.2. 寫一段程式碼，顯示輸入句子中，特定符號的出現次數  \n",
    "<font color=\"Red\">\n",
    "    \n",
    "參考程式碼：      \n",
    "LoopString = 'Python'             \n",
    "for Word in LoopString:             \n",
    "&nbsp;&nbsp;&nbsp;&nbsp;     print(Word)          \n",
    "\n",
    "輸出結果範例:   \n",
    "1. 句子：Today is a good day 中，符號 s 總共出現1次   \n",
    "2. 句子：Today is a good day 中，符號 o 總共出現3次   \n",
    "3. 句子：Today is a good day 中，符號 y 總共出現2次  \n",
    "4. 句子：Today is a good day 中，符號 d 總共出現3次  "
   ]
  },
  {
   "cell_type": "code",
   "execution_count": 9,
   "id": "9dba4659",
   "metadata": {},
   "outputs": [
    {
     "name": "stdout",
     "output_type": "stream",
     "text": [
      "請輸入要統計的符號：S\n",
      "句子：Today is a good day中，符號 S 總共出現 0 次\n",
      "請輸入要統計的符號：o\n",
      "句子：Today is a good day中，符號 o 總共出現 3 次\n",
      "請輸入要統計的符號：y\n",
      "句子：Today is a good day中，符號 y 總共出現 2 次\n",
      "請輸入要統計的符號：d\n",
      "句子：Today is a good day中，符號 d 總共出現 3 次\n"
     ]
    }
   ],
   "source": [
    "for _ in range(4):\n",
    "    sentence = 'Today is a good day'\n",
    "    symbol_to_count = input(\"請輸入要統計的符號：\")\n",
    "\n",
    "    count = 0\n",
    "\n",
    "    for symbol in sentence:\n",
    "        if symbol == symbol_to_count:\n",
    "            count += 1\n",
    "\n",
    "    print(f\"句子：{sentence}中，符號 {symbol_to_count} 總共出現 {count} 次\")\n",
    "\n",
    "#-------------------- Code Here -------------------#\n",
    "\n",
    "#-------------------- Stop Here -------------------#"
   ]
  }
 ],
 "metadata": {
  "kernelspec": {
   "display_name": "Python 3 (ipykernel)",
   "language": "python",
   "name": "python3"
  },
  "language_info": {
   "codemirror_mode": {
    "name": "ipython",
    "version": 3
   },
   "file_extension": ".py",
   "mimetype": "text/x-python",
   "name": "python",
   "nbconvert_exporter": "python",
   "pygments_lexer": "ipython3",
   "version": "3.11.4"
  }
 },
 "nbformat": 4,
 "nbformat_minor": 5
}
